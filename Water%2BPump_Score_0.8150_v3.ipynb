{
 "cells": [
  {
   "cell_type": "markdown",
   "metadata": {},
   "source": [
    "**DrivenData Usernames : **\n",
    "Natasha Savic , \n",
    "Vaishali Raja (VaishaliR)\n",
    "\n",
    "**Best Score:** 0.8150\n",
    "**Ranking :** 534\n",
    "\n",
    "## About\n",
    "\n",
    "The task of this project, from Driven Data.org, is to predict which water pumps throughout Tanzania are functional, which of those requires repairs, and which are not functional at all. The prediction is based on a number of variables about what kind of pump is operating, when it was installed, and how is it managed. There were over 40 columns of variables with around 59000 samples. These features would be analyzed and certain features would be chosen and trained using different classifiers such as Random Forest and Decision Trees."
   ]
  },
  {
   "cell_type": "markdown",
   "metadata": {},
   "source": [
    "## Data loading and Exploration"
   ]
  },
  {
   "cell_type": "code",
   "execution_count": 1,
   "metadata": {},
   "outputs": [],
   "source": [
    "import numpy as np\n",
    "from numpy import math\n",
    "import pandas as pd\n",
    "\n",
    "import matplotlib.pyplot as plt\n",
    "%matplotlib inline \n",
    "\n",
    "import seaborn as sns\n",
    "from sklearn.preprocessing import StandardScaler"
   ]
  },
  {
   "cell_type": "markdown",
   "metadata": {},
   "source": [
    "**Pre-processing in Dataiku**\n",
    "\n",
    "Before loading the data in, we conducted some pre-processing on the train and test datasets with the same recipe using Dataiku. The cleaning that was conducted was as follows: \n",
    "\n",
    "    1) Replaced True/False with 1/0\n",
    "    2) Cleaned input values in installer, scheme_name, funder, ward\n",
    "    3) Filled empty cells of installer with 'Other'\n",
    "    \n",
    "The cleaned datasets were then re-loaded in. For the train set, the status_group was dummiefied during the dataiku pre-processing which is why the last 3 columns need to be removed from the set."
   ]
  },
  {
   "cell_type": "code",
   "execution_count": 2,
   "metadata": {},
   "outputs": [],
   "source": [
    "train_l = pd.read_csv(\"./train_labels.csv\")\n",
    "train_p = pd.read_csv(\"water_prepared.csv\")\n",
    "test = pd.read_csv(\"test_prepared.csv\")"
   ]
  },
  {
   "cell_type": "code",
   "execution_count": 3,
   "metadata": {},
   "outputs": [],
   "source": [
    "train = train_p.iloc[:, :-3] #remove the last 3 variables\n",
    "train_1 = pd.merge(train,train_l, on = 'id')"
   ]
  },
  {
   "cell_type": "code",
   "execution_count": 4,
   "metadata": {},
   "outputs": [
    {
     "name": "stdout",
     "output_type": "stream",
     "text": [
      "Train Data: \n",
      "\n",
      "Number of columns: 42\n",
      "Number of rows: 59400\n",
      "\n",
      "Test Data: \n",
      "\n",
      "Number of columns: 40\n",
      "Number of rows: 14850\n"
     ]
    }
   ],
   "source": [
    "print('Train Data: \\n')\n",
    "print(\"Number of columns: \"+ str(train_1.shape[1]))\n",
    "print(\"Number of rows: \"+ str(train_1.shape[0]))\n",
    "print('\\nTest Data: \\n')\n",
    "print(\"Number of columns: \"+ str(test.shape[1]))\n",
    "print(\"Number of rows: \"+ str(test.shape[0]))"
   ]
  },
  {
   "cell_type": "code",
   "execution_count": 5,
   "metadata": {},
   "outputs": [],
   "source": [
    "#Now drop the  'Index' colum created during the dataiku cleaning process since it's unnecessary for  the prediction process.\n",
    "train_1.drop(\"Index\", axis = 1, inplace = True)"
   ]
  },
  {
   "cell_type": "code",
   "execution_count": 6,
   "metadata": {},
   "outputs": [],
   "source": [
    "#Keep a copy of the id values and  drop the  'Id' colum since it's unnecessary for  the cleaning and training process.\n",
    "train_1_ID = train['id']\n",
    "test_ID = test['id']\n",
    "\n",
    "train_1.drop(\"id\", axis = 1, inplace = True)\n",
    "test.drop(\"id\", axis = 1, inplace = True)"
   ]
  },
  {
   "cell_type": "markdown",
   "metadata": {},
   "source": [
    "**Description of rows / columns in train and test set and status_group**"
   ]
  },
  {
   "cell_type": "code",
   "execution_count": 7,
   "metadata": {},
   "outputs": [
    {
     "name": "stdout",
     "output_type": "stream",
     "text": [
      "Train Data: \n",
      "\n",
      "Number of columns: 40\n",
      "Number of rows: 59400\n",
      "\n",
      "Test Data: \n",
      "\n",
      "Number of columns: 39\n",
      "Number of rows: 14850\n"
     ]
    }
   ],
   "source": [
    "print('Train Data: \\n')\n",
    "print(\"Number of columns: \"+ str(train_1.shape[1]))\n",
    "print(\"Number of rows: \"+ str(train_1.shape[0]))\n",
    "print('\\nTest Data: \\n')\n",
    "print(\"Number of columns: \"+ str(test.shape[1]))\n",
    "print(\"Number of rows: \"+ str(test.shape[0]))"
   ]
  },
  {
   "cell_type": "code",
   "execution_count": 8,
   "metadata": {},
   "outputs": [
    {
     "data": {
      "text/plain": [
       "count          59400\n",
       "unique             3\n",
       "top       functional\n",
       "freq           32259\n",
       "Name: status_group, dtype: object"
      ]
     },
     "execution_count": 8,
     "metadata": {},
     "output_type": "execute_result"
    }
   ],
   "source": [
    "train_1.status_group.describe()"
   ]
  },
  {
   "cell_type": "code",
   "execution_count": 9,
   "metadata": {},
   "outputs": [
    {
     "data": {
      "image/png": "[encoded data removed]",
      "text/plain": [
       "<matplotlib.figure.Figure at 0x117991d30>"
      ]
     },
     "metadata": {},
     "output_type": "display_data"
    }
   ],
   "source": [
    "train_1.status_group.value_counts().plot(kind='barh', color='green')\n",
    "plt.show()"
   ]
  },
  {
   "cell_type": "markdown",
   "metadata": {},
   "source": [
    "**Data Cleaning and Transformations:**\n",
    "\n",
    "   To easily clean the dataset, we are going to be merging the training and testing datasets. But before we do that, we will extract the target variable of status_group and evaluate if any transformations need to be performed. Once that has been completed, the merged dataset (sans status_group) will be split into categorical and numerical sets for data imputation and cleaning. \n",
    "   After a few rounds of base model running, new features were created or removed based on the scores obtained. The following are attempts that were not kept in the final model: \n",
    "   \n",
    "1. Creating categorical values from construction year (Changed it to 60's, 70's etc based on year range). - Reduced the final score considerably and was thus removed. \n",
    "2. Attempted to remove scheme_management "
   ]
  },
  {
   "cell_type": "code",
   "execution_count": 10,
   "metadata": {},
   "outputs": [],
   "source": [
    "#Drop target variable from train dataset\n",
    "target = train_1['status_group']\n",
    "train = train_1.drop(['status_group'], axis=1)"
   ]
  },
  {
   "cell_type": "code",
   "execution_count": 11,
   "metadata": {},
   "outputs": [
    {
     "name": "stdout",
     "output_type": "stream",
     "text": [
      "Train Data before merge: \n",
      "\n",
      "Number of columns: 39\n",
      "Number of rows: 59400\n",
      "\n",
      "Test Data before merge: \n",
      "\n",
      "Number of columns: 39\n",
      "Number of rows: 14850\n",
      "\n",
      "Merged Data: \n",
      "\n",
      "Number of columns: 39\n",
      "Number of rows: 74250\n"
     ]
    }
   ],
   "source": [
    "#Merge train and test sets\n",
    "print('Train Data before merge: \\n')\n",
    "print(\"Number of columns: \"+ str(train.shape[1]))\n",
    "print(\"Number of rows: \"+ str(train.shape[0]))\n",
    "print('\\nTest Data before merge: \\n')\n",
    "print(\"Number of columns: \"+ str(test.shape[1]))\n",
    "print(\"Number of rows: \"+ str(test.shape[0]))\n",
    "\n",
    "m_data = pd.concat([train, test], ignore_index=True)\n",
    "\n",
    "print('\\nMerged Data: \\n')\n",
    "print(\"Number of columns: \"+ str(m_data.shape[1]))\n",
    "print(\"Number of rows: \"+ str(m_data.shape[0]))"
   ]
  },
  {
   "cell_type": "markdown",
   "metadata": {},
   "source": [
    "## Further Cleaning of Dataset"
   ]
  },
  {
   "cell_type": "markdown",
   "metadata": {},
   "source": [
    "**Categorical Values**"
   ]
  },
  {
   "cell_type": "code",
   "execution_count": 12,
   "metadata": {},
   "outputs": [
    {
     "name": "stdout",
     "output_type": "stream",
     "text": [
      "Checks: \n",
      "\n",
      "Number of columns: 28\n",
      "Number of rows: 74250\n",
      "Column Names: Index(['date_recorded', 'funder', 'installer', 'wpt_name', 'basin',\n",
      "       'subvillage', 'region', 'lga', 'ward', 'recorded_by',\n",
      "       'scheme_management', 'scheme_name', 'extraction_type',\n",
      "       'extraction_type_group', 'extraction_type_class', 'management',\n",
      "       'management_group', 'payment', 'payment_type', 'water_quality',\n",
      "       'quality_group', 'quantity', 'quantity_group', 'source', 'source_type',\n",
      "       'source_class', 'waterpoint_type', 'waterpoint_type_group'],\n",
      "      dtype='object')\n",
      "\n",
      " Missing Ratio for Cat variable: \n",
      "\n",
      "Table:             Missing Ratio for Categorical Var\n",
      "funder                               6.065993\n",
      "subvillage                           0.632997\n"
     ]
    }
   ],
   "source": [
    "#Split into Categorical and Numerical Values\n",
    "cat_columns = [col for col in m_data.columns.values if m_data[col].dtype == 'object']\n",
    "\n",
    "# dataframe with categorical features\n",
    "data_cat = m_data[cat_columns]\n",
    "\n",
    "print('Checks: \\n')\n",
    "print(\"Number of columns: \"+ str(data_cat.shape[1]))\n",
    "print(\"Number of rows: \"+ str(data_cat.shape[0]))\n",
    "print(\"Column Names: \"+ str(data_cat.columns))\n",
    "\n",
    "#Percentage of missing values in Categorical Variable\n",
    "data_cat_na = (data_cat.isnull().sum() / len(data_cat)) * 100\n",
    "data_cat_na = data_cat_na.drop(data_cat_na[data_cat_na == 0].index).sort_values(ascending=False)[:30]\n",
    "missing_data_c = pd.DataFrame({'Missing Ratio for Categorical Var' :data_cat_na})\n",
    "print('\\n Missing Ratio for Cat variable: \\n')\n",
    "print(\"Table: \" + str(missing_data_c))"
   ]
  },
  {
   "cell_type": "markdown",
   "metadata": {},
   "source": [
    "We will take a look at the number of distinct values that each feature has and assess the importance of keeping each feature. In the instance that a feature with high number of distinct values are kept,the we will try to reduce the number of distinct values by aggregating the lower halves."
   ]
  },
  {
   "cell_type": "code",
   "execution_count": 13,
   "metadata": {},
   "outputs": [
    {
     "name": "stdout",
     "output_type": "stream",
     "text": [
      "date_recorded 369\n",
      "funder 2133\n",
      "installer 2167\n",
      "wpt_name 45684\n",
      "basin 9\n",
      "subvillage 21426\n",
      "region 21\n",
      "lga 125\n",
      "ward 2017\n",
      "recorded_by 1\n",
      "scheme_management 13\n",
      "scheme_name 2847\n",
      "extraction_type 18\n",
      "extraction_type_group 13\n",
      "extraction_type_class 7\n",
      "management 12\n",
      "management_group 5\n",
      "payment 7\n",
      "payment_type 7\n",
      "water_quality 2\n",
      "quality_group 3\n",
      "quantity 5\n",
      "quantity_group 5\n",
      "source 10\n",
      "source_type 7\n",
      "source_class 3\n",
      "waterpoint_type 7\n",
      "waterpoint_type_group 6\n"
     ]
    }
   ],
   "source": [
    "from collections import Counter\n",
    "\n",
    "for col in ('date_recorded', 'funder', 'installer', 'wpt_name', 'basin',\n",
    "       'subvillage', 'region', 'lga', 'ward', 'recorded_by',\n",
    "       'scheme_management', 'scheme_name', 'extraction_type',\n",
    "       'extraction_type_group', 'extraction_type_class', 'management',\n",
    "       'management_group', 'payment', 'payment_type', 'water_quality',\n",
    "       'quality_group', 'quantity', 'quantity_group', 'source', 'source_type',\n",
    "       'source_class', 'waterpoint_type', 'waterpoint_type_group'):\n",
    "    unique_words = set(data_cat[col])             # == set(['a', 'b', 'c'])\n",
    "    unique_word_count = len(unique_words) # == 3\n",
    "    print(col,unique_word_count)\n",
    "    "
   ]
  },
  {
   "cell_type": "markdown",
   "metadata": {},
   "source": [
    "Before proceeding with cleaning and feature engineering, we are dropping the following columns: \n",
    "    \n",
    "    Reason: High number of distinct values that do not add value to the information set\n",
    "    \n",
    "        - subvillage\n",
    "        - wpt_name\n",
    "        \n",
    "    Reason: Contains duplicate information that can be explained by other columns\n",
    "        - extraction_type\n",
    "        - extraction_type_class\n",
    "        - waterpoint_type_group\n",
    "        - management_group\n",
    "        - payment\n",
    "        - scheme_name\n",
    "        - source_type\n",
    "        - region\n",
    "        - recorded_by\n",
    "        - quality_group\n",
    "        - quantity_group"
   ]
  },
  {
   "cell_type": "code",
   "execution_count": 14,
   "metadata": {},
   "outputs": [
    {
     "name": "stderr",
     "output_type": "stream",
     "text": [
      "/anaconda3/lib/python3.6/site-packages/ipykernel_launcher.py:7: SettingWithCopyWarning: \n",
      "A value is trying to be set on a copy of a slice from a DataFrame\n",
      "\n",
      "See the caveats in the documentation: http://pandas.pydata.org/pandas-docs/stable/indexing.html#indexing-view-versus-copy\n",
      "  import sys\n"
     ]
    }
   ],
   "source": [
    "#drop some columns we don't need or are duplicated\n",
    "cols = ('wpt_name','subvillage','region','recorded_by','scheme_name','extraction_type_class', \n",
    "            'extraction_type','management_group','payment','quality_group','quantity_group',\n",
    "            'source_type','waterpoint_type_group')\n",
    "\n",
    "for c in cols :\n",
    "    data_cat.drop(c,inplace = True, axis = 1)"
   ]
  },
  {
   "cell_type": "code",
   "execution_count": 18,
   "metadata": {},
   "outputs": [
    {
     "data": {
      "text/plain": [
       "(74250, 15)"
      ]
     },
     "execution_count": 18,
     "metadata": {},
     "output_type": "execute_result"
    }
   ],
   "source": [
    "data_cat.shape"
   ]
  },
  {
   "cell_type": "markdown",
   "metadata": {},
   "source": [
    "- Imputing missing values in funder with 'OTHER'\n",
    "- Bringing down the number of variables in funder, installer and schement_management by only taking those values with count >1000 and aggregating the others into 'OTHER'"
   ]
  },
  {
   "cell_type": "code",
   "execution_count": 19,
   "metadata": {},
   "outputs": [
    {
     "name": "stderr",
     "output_type": "stream",
     "text": [
      "/anaconda3/lib/python3.6/site-packages/ipykernel_launcher.py:1: SettingWithCopyWarning: \n",
      "A value is trying to be set on a copy of a slice from a DataFrame.\n",
      "Try using .loc[row_indexer,col_indexer] = value instead\n",
      "\n",
      "See the caveats in the documentation: http://pandas.pydata.org/pandas-docs/stable/indexing.html#indexing-view-versus-copy\n",
      "  \"\"\"Entry point for launching an IPython kernel.\n"
     ]
    }
   ],
   "source": [
    "data_cat['funder'] = data_cat['funder'].fillna('OTHER')"
   ]
  },
  {
   "cell_type": "code",
   "execution_count": 20,
   "metadata": {},
   "outputs": [
    {
     "data": {
      "text/plain": [
       "DWE                         21779\n",
       "OTHER                        9039\n",
       "GOV                          6289\n",
       "COM                          2343\n",
       "RWE                          1707\n",
       "DAN                          1305\n",
       "KKT                          1132\n",
       "Hesawa                       1088\n",
       "WORLDVISION                   880\n",
       "ADRA                          873\n",
       "TCRS                          843\n",
       "DANID                         786\n",
       "CES                           765\n",
       "HESAWS                        680\n",
       "WVT                           664\n",
       "FinWater                      540\n",
       "Amref                         538\n",
       "TASAF                         523\n",
       "FW                            522\n",
       "LGA                           501\n",
       "Wedeco                        500\n",
       "NORAD                         475\n",
       "OXFARM                        409\n",
       "TWESA                         395\n",
       "WORLDBANK                     384\n",
       "Jaica                         358\n",
       "Dmdd                          356\n",
       "Fini Water                    345\n",
       "Di                            329\n",
       "DHV                           312\n",
       "                            ...  \n",
       "local                           1\n",
       "USAID                           1\n",
       "mwakifuna                       1\n",
       "Singida yetu                    1\n",
       "DEW                             1\n",
       "Qwick Win                       1\n",
       "Distric Water Department        1\n",
       "Muhochi Kissaka                 1\n",
       "Steven Nyangarika               1\n",
       "MTUI                            1\n",
       "Shingida yetu                   1\n",
       "Private company                 1\n",
       "Waitaliano                      1\n",
       "Kanisani                        1\n",
       "CI                              1\n",
       "St Magreth Church               1\n",
       "MoWI                            1\n",
       "ROMAN CATHOLIC                  1\n",
       "VIFAI                           1\n",
       "Rps                             1\n",
       "Mama Kalage                     1\n",
       "Indiv                           1\n",
       "British government              1\n",
       "Raymond Ekura                   1\n",
       "Mr Jul                          1\n",
       "Pori la akiba kigosi            1\n",
       "Paul                            1\n",
       "BABTEST                         1\n",
       "Water Authority                 1\n",
       "Robert                          1\n",
       "Name: installer, Length: 2167, dtype: int64"
      ]
     },
     "execution_count": 20,
     "metadata": {},
     "output_type": "execute_result"
    }
   ],
   "source": [
    "#Regrouping funder and installer based on top few categories to reduce the number of variables.\n",
    "data_cat.installer.value_counts()"
   ]
  },
  {
   "cell_type": "code",
   "execution_count": 21,
   "metadata": {},
   "outputs": [],
   "source": [
    "# Create a function to reduce the amount of dummy columns needed whilst maintaining the information contained in the column.\n",
    "\n",
    "def installer_wrangler(row):  \n",
    "    '''Keep values with more than 1000 values and set the rest to 'other'''\n",
    "\n",
    "    if row['installer']=='DWE':\n",
    "        return 'DWE'\n",
    "    elif row['installer']=='GOV':\n",
    "        return 'GOV'\n",
    "    elif row['installer']=='COM':\n",
    "        return 'COM'\n",
    "    elif row['installer']=='RWE':\n",
    "        return 'RWE'\n",
    "    elif row['installer']=='DAN':\n",
    "        return 'DAN'    \n",
    "    elif row['installer']=='KKT':\n",
    "        return 'KKT' \n",
    "    elif row['installer']=='Hesawa':\n",
    "        return 'Hesawa' \n",
    "    else:\n",
    "        return 'OTHER'"
   ]
  },
  {
   "cell_type": "code",
   "execution_count": 22,
   "metadata": {},
   "outputs": [
    {
     "name": "stderr",
     "output_type": "stream",
     "text": [
      "/anaconda3/lib/python3.6/site-packages/ipykernel_launcher.py:1: SettingWithCopyWarning: \n",
      "A value is trying to be set on a copy of a slice from a DataFrame.\n",
      "Try using .loc[row_indexer,col_indexer] = value instead\n",
      "\n",
      "See the caveats in the documentation: http://pandas.pydata.org/pandas-docs/stable/indexing.html#indexing-view-versus-copy\n",
      "  \"\"\"Entry point for launching an IPython kernel.\n"
     ]
    }
   ],
   "source": [
    "data_cat['installer'] = data_cat.apply(lambda row: installer_wrangler(row), axis=1)"
   ]
  },
  {
   "cell_type": "code",
   "execution_count": 23,
   "metadata": {},
   "outputs": [
    {
     "data": {
      "text/plain": [
       "Government Of Tanzania      11299\n",
       "OTHER                        4504\n",
       "Danida                       3907\n",
       "Hesawa                       2782\n",
       "Rwssp                        1703\n",
       "World Bank                   1701\n",
       "Kkkt                         1623\n",
       "World Vision                 1562\n",
       "Unicef                       1324\n",
       "Tasaf                        1136\n",
       "Dhv                          1065\n",
       "District Council             1037\n",
       "Private Individual           1034\n",
       "Dwsp                         1012\n",
       "0                             980\n",
       "Norad                         949\n",
       "Germany Republi               765\n",
       "Water                         739\n",
       "Tcrs                          735\n",
       "Ministry Of Water             728\n",
       "Dwe                           605\n",
       "Netherlands                   592\n",
       "Hifab                         577\n",
       "Adb                           551\n",
       "Lga                           546\n",
       "Ces                           526\n",
       "Amref                         525\n",
       "Fini Water                    474\n",
       "Oxfam                         436\n",
       "Wateraid                      416\n",
       "                            ...  \n",
       "Ku                              1\n",
       "Cathoric                        1\n",
       "Norway Aid                      1\n",
       "Luchelegu Primary School        1\n",
       "Seleman Seif                    1\n",
       "Kwa Mzee Waziri                 1\n",
       "Pius Msekwa                     1\n",
       "Village Gover                   1\n",
       "Cgc                             1\n",
       "Overnment                       1\n",
       "Nerthlands                      1\n",
       "Moyowosi                        1\n",
       "Loocip                          1\n",
       "Tasad                           1\n",
       "Mnyambe                         1\n",
       "Tareto                          1\n",
       "Mama Ku                         1\n",
       "Rc Njoro                        1\n",
       "Mwl.Mwita                       1\n",
       "Rw Ssp                          1\n",
       "Wug And Ded                     1\n",
       "Charlotte Well                  1\n",
       "Folac                           1\n",
       "Action In A                     1\n",
       "Bakwata                         1\n",
       "Rashid Mahongwe                 1\n",
       "Kkkt Mso                        1\n",
       "Tree Ways German                1\n",
       "Mwinjuma Mzee                   1\n",
       "Dina                            1\n",
       "Name: funder, Length: 2133, dtype: int64"
      ]
     },
     "execution_count": 23,
     "metadata": {},
     "output_type": "execute_result"
    }
   ],
   "source": [
    "data_cat.funder.value_counts()"
   ]
  },
  {
   "cell_type": "code",
   "execution_count": 24,
   "metadata": {},
   "outputs": [
    {
     "name": "stderr",
     "output_type": "stream",
     "text": [
      "/anaconda3/lib/python3.6/site-packages/ipykernel_launcher.py:29: SettingWithCopyWarning: \n",
      "A value is trying to be set on a copy of a slice from a DataFrame.\n",
      "Try using .loc[row_indexer,col_indexer] = value instead\n",
      "\n",
      "See the caveats in the documentation: http://pandas.pydata.org/pandas-docs/stable/indexing.html#indexing-view-versus-copy\n"
     ]
    }
   ],
   "source": [
    "def funder_wrangler(row):  \n",
    "    '''Keep values with more than 1000 values and set the rest to 'other'''\n",
    "\n",
    "    if row['funder']=='Government Of Tanzania':\n",
    "        return 'GOV'\n",
    "    elif row['funder']=='Danida':\n",
    "        return 'danida'\n",
    "    elif row['funder']=='Hesawa':\n",
    "        return 'hesawa'\n",
    "    elif row['funder']=='Rwssp':\n",
    "        return 'rwssp'\n",
    "    elif row['funder']=='World Bank':\n",
    "        return 'world_bank'   \n",
    "    elif row['funder']=='Kkkt':\n",
    "        return 'kkkt'\n",
    "    elif row['funder']=='World Vision':\n",
    "        return 'world_vision'\n",
    "    elif row['funder']=='Unicef':\n",
    "        return 'unicef'\n",
    "    elif row['funder']=='Tasaf':\n",
    "        return 'tasaf'\n",
    "    elif row['funder']=='Dhv':\n",
    "        return 'dhv'\n",
    "    elif row['funder']=='District Council':\n",
    "        return 'district_council'\n",
    "    else:\n",
    "        return 'OTHER'\n",
    "    \n",
    "data_cat['funder'] = data_cat.apply(lambda row: funder_wrangler(row), axis=1)"
   ]
  },
  {
   "cell_type": "code",
   "execution_count": 25,
   "metadata": {},
   "outputs": [
    {
     "data": {
      "text/plain": [
       "VWC                 45917\n",
       "WUG                  6496\n",
       "unknown              4846\n",
       "Water authority      3975\n",
       "WUA                  3551\n",
       "Water Board          3462\n",
       "Parastatal           2124\n",
       "Company              1341\n",
       "Private operator     1326\n",
       "Other                 996\n",
       "SWC                   123\n",
       "Trust                  92\n",
       "None                    1\n",
       "Name: scheme_management, dtype: int64"
      ]
     },
     "execution_count": 25,
     "metadata": {},
     "output_type": "execute_result"
    }
   ],
   "source": [
    "data_cat.scheme_management.value_counts()"
   ]
  },
  {
   "cell_type": "code",
   "execution_count": 26,
   "metadata": {},
   "outputs": [
    {
     "name": "stderr",
     "output_type": "stream",
     "text": [
      "/anaconda3/lib/python3.6/site-packages/ipykernel_launcher.py:15: SettingWithCopyWarning: \n",
      "A value is trying to be set on a copy of a slice from a DataFrame.\n",
      "Try using .loc[row_indexer,col_indexer] = value instead\n",
      "\n",
      "See the caveats in the documentation: http://pandas.pydata.org/pandas-docs/stable/indexing.html#indexing-view-versus-copy\n",
      "  from ipykernel import kernelapp as app\n"
     ]
    }
   ],
   "source": [
    "def scheme_management(row):  \n",
    "    '''Keep values with more than 1000 values and set the rest to 'other'''\n",
    "\n",
    "    if row['scheme_management']=='Other':\n",
    "        return 'OTHER'\n",
    "    elif row['scheme_management']=='SWC':\n",
    "        return 'OTHER'\n",
    "    elif row['scheme_management']=='Trust':\n",
    "        return 'OTHER'\n",
    "    elif row['scheme_management']=='None':\n",
    "        return 'OTHER'\n",
    "    else:\n",
    "        return row['scheme_management']\n",
    "    \n",
    "data_cat['scheme_management'] = data_cat.apply(lambda row: scheme_management(row), axis=1)"
   ]
  },
  {
   "cell_type": "code",
   "execution_count": 27,
   "metadata": {},
   "outputs": [
    {
     "name": "stdout",
     "output_type": "stream",
     "text": [
      "date_recorded 369\n",
      "funder 12\n",
      "installer 8\n",
      "basin 9\n",
      "lga 125\n",
      "ward 2017\n",
      "scheme_management 10\n",
      "extraction_type_group 13\n",
      "management 12\n",
      "payment_type 7\n",
      "water_quality 2\n",
      "quantity 5\n",
      "source 10\n",
      "source_class 3\n",
      "waterpoint_type 7\n"
     ]
    }
   ],
   "source": [
    "#Performing check on the distinct values\n",
    "from collections import Counter\n",
    "\n",
    "for col in ('date_recorded', 'funder', 'installer', 'basin', 'lga', 'ward',\n",
    "       'scheme_management', 'extraction_type_group', 'management',\n",
    "       'payment_type', 'water_quality', 'quantity', 'source', 'source_class',\n",
    "       'waterpoint_type'):\n",
    "    unique_words = set(data_cat[col])             # == set(['a', 'b', 'c'])\n",
    "    unique_word_count = len(unique_words) # == 3\n",
    "    print(col,unique_word_count)"
   ]
  },
  {
   "cell_type": "markdown",
   "metadata": {},
   "source": [
    "After the initial run, a new feature was created 'days_since' which provides information on the from the date recorded to the latest date recorded. "
   ]
  },
  {
   "cell_type": "code",
   "execution_count": 28,
   "metadata": {},
   "outputs": [
    {
     "name": "stderr",
     "output_type": "stream",
     "text": [
      "/anaconda3/lib/python3.6/site-packages/ipykernel_launcher.py:5: SettingWithCopyWarning: \n",
      "A value is trying to be set on a copy of a slice from a DataFrame.\n",
      "Try using .loc[row_indexer,col_indexer] = value instead\n",
      "\n",
      "See the caveats in the documentation: http://pandas.pydata.org/pandas-docs/stable/indexing.html#indexing-view-versus-copy\n",
      "  \"\"\"\n"
     ]
    }
   ],
   "source": [
    "#Change date_Recorded to datetime\n",
    "from datetime import datetime, timedelta\n",
    "\n",
    "datedf = data_cat['date_recorded']\n",
    "data_cat['date_recorded'] = pd.to_datetime(data_cat['date_recorded'], yearfirst = True, format = '%Y-%m-%d')"
   ]
  },
  {
   "cell_type": "code",
   "execution_count": 29,
   "metadata": {},
   "outputs": [
    {
     "data": {
      "text/plain": [
       "count                   74250\n",
       "unique                    369\n",
       "top       2011-03-17 00:00:00\n",
       "freq                      695\n",
       "first     2001-03-26 00:00:00\n",
       "last      2013-12-03 00:00:00\n",
       "Name: date_recorded, dtype: object"
      ]
     },
     "execution_count": 29,
     "metadata": {},
     "output_type": "execute_result"
    }
   ],
   "source": [
    "data_cat.date_recorded.describe()"
   ]
  },
  {
   "cell_type": "code",
   "execution_count": 30,
   "metadata": {},
   "outputs": [
    {
     "data": {
      "text/plain": [
       "datetime.datetime(2013, 12, 3, 0, 0)"
      ]
     },
     "execution_count": 30,
     "metadata": {},
     "output_type": "execute_result"
    }
   ],
   "source": [
    "# The most recent data is 2013-12-03. Subtract each date from this point to obtain a 'days_since_recorded' column.\n",
    "\n",
    "date_format = \"%Y-%m-%d\"\n",
    "latest = datetime(2013,12,3)\n",
    "latest"
   ]
  },
  {
   "cell_type": "code",
   "execution_count": 31,
   "metadata": {},
   "outputs": [
    {
     "name": "stderr",
     "output_type": "stream",
     "text": [
      "/anaconda3/lib/python3.6/site-packages/ipykernel_launcher.py:1: SettingWithCopyWarning: \n",
      "A value is trying to be set on a copy of a slice from a DataFrame.\n",
      "Try using .loc[row_indexer,col_indexer] = value instead\n",
      "\n",
      "See the caveats in the documentation: http://pandas.pydata.org/pandas-docs/stable/indexing.html#indexing-view-versus-copy\n",
      "  \"\"\"Entry point for launching an IPython kernel.\n",
      "/anaconda3/lib/python3.6/site-packages/pandas/core/generic.py:3643: SettingWithCopyWarning: \n",
      "A value is trying to be set on a copy of a slice from a DataFrame.\n",
      "Try using .loc[row_indexer,col_indexer] = value instead\n",
      "\n",
      "See the caveats in the documentation: http://pandas.pydata.org/pandas-docs/stable/indexing.html#indexing-view-versus-copy\n",
      "  self[name] = value\n"
     ]
    }
   ],
   "source": [
    "data_cat['days_since'] =  latest - data_cat['date_recorded']\n",
    "data_cat.days_since = data_cat.days_since.astype(int)\n",
    "data_cat.date_recorded = data_cat.date_recorded.astype(int)"
   ]
  },
  {
   "cell_type": "code",
   "execution_count": 32,
   "metadata": {},
   "outputs": [
    {
     "name": "stdout",
     "output_type": "stream",
     "text": [
      "Checks: \n",
      "\n",
      "Number of columns: 16\n",
      "Number of rows: 74250\n",
      "Column Names: Index(['date_recorded', 'funder', 'installer', 'basin', 'lga', 'ward',\n",
      "       'scheme_management', 'extraction_type_group', 'management',\n",
      "       'payment_type', 'water_quality', 'quantity', 'source', 'source_class',\n",
      "       'waterpoint_type', 'days_since'],\n",
      "      dtype='object')\n",
      "\n",
      " Missing Ratio for Cat variable: \n",
      "\n",
      "Table: Empty DataFrame\n",
      "Columns: [Missing Ratio for Categorical Var]\n",
      "Index: []\n",
      "date_recorded 369\n",
      "funder 12\n",
      "installer 8\n",
      "basin 9\n",
      "lga 125\n",
      "ward 2017\n",
      "scheme_management 10\n",
      "extraction_type_group 13\n",
      "payment_type 7\n",
      "water_quality 2\n",
      "quantity 5\n",
      "source 10\n",
      "source_class 3\n",
      "waterpoint_type 7\n",
      "days_since 369\n"
     ]
    }
   ],
   "source": [
    "#Check chunk to see the shape, missing variables and unique value count\n",
    "from collections import Counter\n",
    "print('Checks: \\n')\n",
    "print(\"Number of columns: \"+ str(data_cat.shape[1]))\n",
    "print(\"Number of rows: \"+ str(data_cat.shape[0]))\n",
    "print(\"Column Names: \"+ str(data_cat.columns))\n",
    "\n",
    "#Percentage of missing values in Categorical Variable\n",
    "data_cat_na = (data_cat.isnull().sum() / len(data_cat)) * 100\n",
    "data_cat_na = data_cat_na.drop(data_cat_na[data_cat_na == 0].index).sort_values(ascending=False)[:30]\n",
    "missing_data_c = pd.DataFrame({'Missing Ratio for Categorical Var' :data_cat_na})\n",
    "print('\\n Missing Ratio for Cat variable: \\n')\n",
    "print(\"Table: \" + str(missing_data_c))\n",
    "\n",
    "for col in ('date_recorded', 'funder', 'installer', 'basin', 'lga', 'ward',\n",
    "       'scheme_management', 'extraction_type_group', \n",
    "       'payment_type', 'water_quality', 'quantity', 'source', 'source_class',\n",
    "       'waterpoint_type', 'days_since'):\n",
    "    unique_words = set(data_cat[col])             # == set(['a', 'b', 'c'])\n",
    "    unique_word_count = len(unique_words) # == 3\n",
    "    print(col,unique_word_count)"
   ]
  },
  {
   "cell_type": "markdown",
   "metadata": {},
   "source": [
    "**Use labelencoder to create ordinal values from some categorical values**\n",
    "\n",
    "Onehotencoding was attempted but the results of the onehot encoder was not better. This could possibly have been due to the huge number of variables that are created."
   ]
  },
  {
   "cell_type": "code",
   "execution_count": 33,
   "metadata": {},
   "outputs": [
    {
     "name": "stderr",
     "output_type": "stream",
     "text": [
      "/anaconda3/lib/python3.6/site-packages/ipykernel_launcher.py:8: SettingWithCopyWarning: \n",
      "A value is trying to be set on a copy of a slice from a DataFrame.\n",
      "Try using .loc[row_indexer,col_indexer] = value instead\n",
      "\n",
      "See the caveats in the documentation: http://pandas.pydata.org/pandas-docs/stable/indexing.html#indexing-view-versus-copy\n",
      "  \n"
     ]
    }
   ],
   "source": [
    "#labelencoding \n",
    "from sklearn.preprocessing import LabelEncoder\n",
    "\n",
    "for col in ('funder', 'installer', 'scheme_management', 'basin','extraction_type_group', 'payment_type', 'management',\n",
    "            'water_quality', 'quantity', 'source','source_class', 'waterpoint_type'):\n",
    "    lbl = LabelEncoder() \n",
    "    lbl.fit(list(data_cat[col].values)) \n",
    "    data_cat[col] = lbl.transform(list(data_cat[col].values))"
   ]
  },
  {
   "cell_type": "code",
   "execution_count": 34,
   "metadata": {},
   "outputs": [],
   "source": [
    "#get dummies\n",
    "data_cat = pd.get_dummies(data_cat)"
   ]
  },
  {
   "cell_type": "code",
   "execution_count": 35,
   "metadata": {},
   "outputs": [
    {
     "name": "stdout",
     "output_type": "stream",
     "text": [
      "Checks: \n",
      "\n",
      "Number of columns: 2156\n",
      "Number of rows: 74250\n",
      "Column Names: Index(['date_recorded', 'funder', 'installer', 'basin', 'scheme_management',\n",
      "       'extraction_type_group', 'management', 'payment_type', 'water_quality',\n",
      "       'quantity',\n",
      "       ...\n",
      "       'ward_Yakobi', 'ward_Zagayu', 'ward_Zanka', 'ward_Ziba',\n",
      "       'ward_Zinga/Ikerege', 'ward_Zirai', 'ward_Ziwani', 'ward_Zoissa',\n",
      "       'ward_Zongomera', 'ward_Zuzu'],\n",
      "      dtype='object', length=2156)\n"
     ]
    }
   ],
   "source": [
    "print('Checks: \\n')\n",
    "print(\"Number of columns: \"+ str(data_cat.shape[1]))\n",
    "print(\"Number of rows: \"+ str(data_cat.shape[0]))\n",
    "print(\"Column Names: \"+ str(data_cat.columns))\n"
   ]
  },
  {
   "cell_type": "code",
   "execution_count": 36,
   "metadata": {},
   "outputs": [
    {
     "name": "stdout",
     "output_type": "stream",
     "text": [
      "Checkinf for NaN and Inf\n",
      "np.nan= (array([], dtype=int64), array([], dtype=int64))\n",
      "is.inf= (array([], dtype=int64), array([], dtype=int64))\n"
     ]
    }
   ],
   "source": [
    "print (\"Checkinf for NaN and Inf\")\n",
    "print (\"np.nan=\", np.where(np.isnan(data_cat)))\n",
    "print (\"is.inf=\", np.where(np.isinf(data_cat)))"
   ]
  },
  {
   "cell_type": "markdown",
   "metadata": {},
   "source": [
    "**Numerical Values**"
   ]
  },
  {
   "cell_type": "code",
   "execution_count": 37,
   "metadata": {},
   "outputs": [
    {
     "name": "stdout",
     "output_type": "stream",
     "text": [
      "Checks: \n",
      "\n",
      "Number of columns: 11\n",
      "Number of rows: 74250\n",
      "Column Names: Index(['amount_tsh', 'gps_height', 'longitude', 'latitude', 'num_private',\n",
      "       'region_code', 'district_code', 'population', 'public_meeting',\n",
      "       'permit', 'construction_year'],\n",
      "      dtype='object')\n",
      "\n",
      " Missing % of NA in Num variable: \n",
      "\n",
      "Table:                 Missing % of NA in Numerical Var\n",
      "public_meeting                          5.595960\n",
      "permit                                  5.108418\n"
     ]
    }
   ],
   "source": [
    "# dataframe with numerical features\n",
    "data_num = m_data.drop(cat_columns, axis=1)\n",
    "\n",
    "print('Checks: \\n')\n",
    "print(\"Number of columns: \"+ str(data_num.shape[1]))\n",
    "print(\"Number of rows: \"+ str(data_num.shape[0]))\n",
    "print(\"Column Names: \"+ str(data_num.columns))\n",
    "\n",
    "#Percentage of missing values in Numerical Variables\n",
    "data_num_na = (data_num.isnull().sum() / len(data_num)) * 100\n",
    "data_num_na = data_num_na.drop(data_num_na[data_num_na == 0].index).sort_values(ascending=False)[:30]\n",
    "missing_data_n = pd.DataFrame({'Missing % of NA in Numerical Var' :data_num_na})\n",
    "print('\\n Missing % of NA in Num variable: \\n')\n",
    "print(\"Table: \" + str(missing_data_n))"
   ]
  },
  {
   "cell_type": "markdown",
   "metadata": {},
   "source": [
    "Before proceeding with cleaning and feature engineering, we are dropping the following columns:\n",
    " \n",
    "  - num_private\n",
    "  - public_meeting\n",
    "  - amount_tsh\n",
    "  - gps_height\n",
    "  \n",
    "After dropping the abovemention columns, the variables with missing values are imputed with a 0.\n"
   ]
  },
  {
   "cell_type": "code",
   "execution_count": 38,
   "metadata": {},
   "outputs": [],
   "source": [
    "#drop some columns we don't need or are duplicated\n",
    "cols = ('num_private','public_meeting','amount_tsh','gps_height')\n",
    "\n",
    "for c in cols :\n",
    "    data_num.drop(c,inplace = True, axis = 1)"
   ]
  },
  {
   "cell_type": "code",
   "execution_count": 39,
   "metadata": {},
   "outputs": [],
   "source": [
    "data_num['permit'] = data_num['permit'].fillna(0)"
   ]
  },
  {
   "cell_type": "markdown",
   "metadata": {},
   "source": [
    "We'll check on the number of 0's in the different variables. "
   ]
  },
  {
   "cell_type": "code",
   "execution_count": 40,
   "metadata": {},
   "outputs": [
    {
     "name": "stdout",
     "output_type": "stream",
     "text": [
      "longitude             2269\n",
      "latitude                 0\n",
      "region_code              0\n",
      "district_code           27\n",
      "population           26834\n",
      "permit               52399\n",
      "construction_year    25969\n",
      "dtype: int64\n"
     ]
    }
   ],
   "source": [
    "#Which columns are suspects to have false 0's that are actually na's?\n",
    "print((data_num == 0).sum())"
   ]
  },
  {
   "cell_type": "markdown",
   "metadata": {},
   "source": [
    "For some variables like 'permit' and 'district', it is acceptable to have a high number of 0 as they are either boolean or part of the value set. However, it affects the modelling process when variables like 'construction_year' and 'population' have 0 as these are obviously incorrect values. As such they would be imputed using the following methods : \n",
    "\n",
    "    1)Longtitude, Latitude - Using the mean of the region where they are located. \n",
    "    2)Population - Using the mean of the district where they are located\n",
    "    3)Construction_year - Using the median of the district where they are located."
   ]
  },
  {
   "cell_type": "code",
   "execution_count": 41,
   "metadata": {},
   "outputs": [
    {
     "name": "stderr",
     "output_type": "stream",
     "text": [
      "/anaconda3/lib/python3.6/site-packages/pandas/core/indexing.py:537: SettingWithCopyWarning: \n",
      "A value is trying to be set on a copy of a slice from a DataFrame.\n",
      "Try using .loc[row_indexer,col_indexer] = value instead\n",
      "\n",
      "See the caveats in the documentation: http://pandas.pydata.org/pandas-docs/stable/indexing.html#indexing-view-versus-copy\n",
      "  self.obj[item] = s\n"
     ]
    }
   ],
   "source": [
    "#All missing values of latitude, longitude and height (listed as 0s) are converted to the mean value within their administrative region\n",
    "a= data_num[data_num[\"longitude\"] < 1]\n",
    "a.iloc[:,data_num.columns == \"latitude\"]= np.nan\n",
    "a.iloc[:,data_num.columns == \"longitude\"]= np.nan\n",
    "data_num[data_num[\"longitude\"] < 1] = a\n",
    "data_num[\"longitude\"] = data_num.groupby(\"region_code\").transform(lambda x: x.fillna(x.mean())).longitude.astype(np.float32)\n",
    "data_num[\"latitude\"] = data_num.groupby(\"region_code\").transform(lambda x: x.fillna(x.mean())).latitude.astype(np.float32)"
   ]
  },
  {
   "cell_type": "code",
   "execution_count": 42,
   "metadata": {},
   "outputs": [
    {
     "name": "stderr",
     "output_type": "stream",
     "text": [
      "/anaconda3/lib/python3.6/site-packages/pandas/core/indexing.py:537: SettingWithCopyWarning: \n",
      "A value is trying to be set on a copy of a slice from a DataFrame.\n",
      "Try using .loc[row_indexer,col_indexer] = value instead\n",
      "\n",
      "See the caveats in the documentation: http://pandas.pydata.org/pandas-docs/stable/indexing.html#indexing-view-versus-copy\n",
      "  self.obj[item] = s\n"
     ]
    }
   ],
   "source": [
    "#data_num.population=pd.to_numeric(data_num.population)\n",
    "\n",
    "a= data_num[data_num[\"population\"] < 2]\n",
    "a.iloc[:,data_num.columns == \"population\"]= np.nan\n",
    "data_num[data_num[\"population\"] < 2] = a\n",
    "data_num[\"population\"] = data_num.groupby(\"district_code\").transform(lambda x: x.fillna(x.mean())).population.astype(np.float32)"
   ]
  },
  {
   "cell_type": "code",
   "execution_count": 43,
   "metadata": {},
   "outputs": [
    {
     "name": "stderr",
     "output_type": "stream",
     "text": [
      "/anaconda3/lib/python3.6/site-packages/pandas/core/indexing.py:537: SettingWithCopyWarning: \n",
      "A value is trying to be set on a copy of a slice from a DataFrame.\n",
      "Try using .loc[row_indexer,col_indexer] = value instead\n",
      "\n",
      "See the caveats in the documentation: http://pandas.pydata.org/pandas-docs/stable/indexing.html#indexing-view-versus-copy\n",
      "  self.obj[item] = s\n"
     ]
    }
   ],
   "source": [
    "a= data_num[data_num[\"construction_year\"] < 1]\n",
    "a.iloc[:,data_num.columns == \"construction_year\"]= np.nan\n",
    "data_num[data_num[\"construction_year\"] < 1] = a\n",
    "data_num[\"construction_year\"] = data_num.groupby(\"district_code\").transform(lambda x: x.fillna(x.median())).construction_year.astype(np.float32)"
   ]
  },
  {
   "cell_type": "code",
   "execution_count": 44,
   "metadata": {},
   "outputs": [
    {
     "name": "stdout",
     "output_type": "stream",
     "text": [
      "\n",
      " Missing Ratio for Num variable: \n",
      "\n",
      "Table:                    Missing Ratio for Numerical Var\n",
      "construction_year                         0.167003\n",
      "population                                0.053872\n"
     ]
    }
   ],
   "source": [
    "#Percentage of missing values in Numerical Variables\n",
    "data_num_na = (data_num.isnull().sum() / len(data_num)) * 100\n",
    "data_num_na = data_num_na.drop(data_num_na[data_num_na == 0].index).sort_values(ascending=False)[:30]\n",
    "missing_data_n = pd.DataFrame({'Missing Ratio for Numerical Var' :data_num_na})\n",
    "print('\\n Missing Ratio for Num variable: \\n')\n",
    "print(\"Table: \" + str(missing_data_n))"
   ]
  },
  {
   "cell_type": "markdown",
   "metadata": {},
   "source": [
    "We note that even after the imputation, there are some values which are missing. These values are imputed with the mean of the variable."
   ]
  },
  {
   "cell_type": "code",
   "execution_count": 45,
   "metadata": {},
   "outputs": [],
   "source": [
    "data_num[\"population\"] = data_num[\"population\"].fillna(data_num[\"population\"].mean())\n",
    "data_num[\"construction_year\"] = data_num[\"construction_year\"].fillna(data_num[\"population\"].mean())"
   ]
  },
  {
   "cell_type": "code",
   "execution_count": 46,
   "metadata": {},
   "outputs": [
    {
     "name": "stdout",
     "output_type": "stream",
     "text": [
      "longitude                0\n",
      "latitude                 0\n",
      "region_code              0\n",
      "district_code           27\n",
      "population               0\n",
      "permit               52399\n",
      "construction_year        0\n",
      "dtype: int64\n"
     ]
    }
   ],
   "source": [
    "print((data_num == 0).sum())"
   ]
  },
  {
   "cell_type": "code",
   "execution_count": 47,
   "metadata": {},
   "outputs": [
    {
     "name": "stdout",
     "output_type": "stream",
     "text": [
      "\n",
      " Missing Ratio for Num variable: \n",
      "\n",
      "Table: Empty DataFrame\n",
      "Columns: [Missing Ratio for Numerical Var]\n",
      "Index: []\n"
     ]
    }
   ],
   "source": [
    "#Percentage of missing values in Numerical Variables\n",
    "data_num_na = (data_num.isnull().sum() / len(data_num)) * 100\n",
    "data_num_na = data_num_na.drop(data_num_na[data_num_na == 0].index).sort_values(ascending=False)[:30]\n",
    "missing_data_n = pd.DataFrame({'Missing Ratio for Numerical Var' :data_num_na})\n",
    "print('\\n Missing Ratio for Num variable: \\n')\n",
    "print(\"Table: \" + str(missing_data_n))"
   ]
  },
  {
   "cell_type": "markdown",
   "metadata": {},
   "source": [
    "**Reduce skewness in numerical values**"
   ]
  },
  {
   "cell_type": "code",
   "execution_count": 49,
   "metadata": {},
   "outputs": [
    {
     "data": {
      "text/html": [
       "<div>\n",
       "<style scoped>\n",
       "    .dataframe tbody tr th:only-of-type {\n",
       "        vertical-align: middle;\n",
       "    }\n",
       "\n",
       "    .dataframe tbody tr th {\n",
       "        vertical-align: top;\n",
       "    }\n",
       "\n",
       "    .dataframe thead th {\n",
       "        text-align: right;\n",
       "    }\n",
       "</style>\n",
       "<table border=\"1\" class=\"dataframe\">\n",
       "  <thead>\n",
       "    <tr style=\"text-align: right;\">\n",
       "      <th></th>\n",
       "      <th>Skew</th>\n",
       "    </tr>\n",
       "  </thead>\n",
       "  <tbody>\n",
       "    <tr>\n",
       "      <th>population</th>\n",
       "      <td>13.249703</td>\n",
       "    </tr>\n",
       "    <tr>\n",
       "      <th>district_code</th>\n",
       "      <td>3.961353</td>\n",
       "    </tr>\n",
       "    <tr>\n",
       "      <th>region_code</th>\n",
       "      <td>3.179390</td>\n",
       "    </tr>\n",
       "    <tr>\n",
       "      <th>permit</th>\n",
       "      <td>0.902788</td>\n",
       "    </tr>\n",
       "    <tr>\n",
       "      <th>longitude</th>\n",
       "      <td>-0.077025</td>\n",
       "    </tr>\n",
       "    <tr>\n",
       "      <th>latitude</th>\n",
       "      <td>-0.304708</td>\n",
       "    </tr>\n",
       "    <tr>\n",
       "      <th>construction_year</th>\n",
       "      <td>-23.600397</td>\n",
       "    </tr>\n",
       "  </tbody>\n",
       "</table>\n",
       "</div>"
      ],
      "text/plain": [
       "                        Skew\n",
       "population         13.249703\n",
       "district_code       3.961353\n",
       "region_code         3.179390\n",
       "permit              0.902788\n",
       "longitude          -0.077025\n",
       "latitude           -0.304708\n",
       "construction_year -23.600397"
      ]
     },
     "execution_count": 49,
     "metadata": {},
     "output_type": "execute_result"
    }
   ],
   "source": [
    "from scipy.stats import skew,norm\n",
    "from scipy.special import boxcox1p\n",
    "\n",
    "skew_features = data_num.apply(lambda x: skew(x.dropna())).sort_values(ascending=False) \n",
    "skewness = pd.DataFrame({'Skew' :skew_features})\n",
    "skewness"
   ]
  },
  {
   "cell_type": "code",
   "execution_count": 50,
   "metadata": {},
   "outputs": [],
   "source": [
    "#Apply box-cox transformation for numerical variables with skewness more than 0.75\n",
    "#skewness = skewness[abs(skewness) > 0.75]\n",
    "\n",
    "#skewed_features = skewness.index\n",
    "lam = 0.15\n",
    "for c in ('district_code','region_code','permit'):\n",
    "    data_num[c] = boxcox1p(data_num[c], lam)"
   ]
  },
  {
   "cell_type": "code",
   "execution_count": 51,
   "metadata": {},
   "outputs": [],
   "source": [
    "for col in ('region_code', 'district_code', 'permit'):\n",
    "    data_num[col] = data_num[col].astype(int)"
   ]
  },
  {
   "cell_type": "code",
   "execution_count": 52,
   "metadata": {},
   "outputs": [
    {
     "data": {
      "text/plain": [
       "longitude            float32\n",
       "latitude             float32\n",
       "region_code            int64\n",
       "district_code          int64\n",
       "population           float32\n",
       "permit                 int64\n",
       "construction_year    float32\n",
       "dtype: object"
      ]
     },
     "execution_count": 52,
     "metadata": {},
     "output_type": "execute_result"
    }
   ],
   "source": [
    "data_num.dtypes"
   ]
  },
  {
   "cell_type": "code",
   "execution_count": 53,
   "metadata": {},
   "outputs": [
    {
     "name": "stdout",
     "output_type": "stream",
     "text": [
      "Checkinf for NaN and Inf\n",
      "np.nan= (array([], dtype=int64), array([], dtype=int64))\n",
      "is.inf= (array([], dtype=int64), array([], dtype=int64))\n",
      "np.max= longitude               40.345192\n",
      "latitude                11.649440\n",
      "region_code              6.000000\n",
      "district_code            6.000000\n",
      "population           30500.000000\n",
      "permit                   0.000000\n",
      "construction_year     2013.000000\n",
      "dtype: float64\n"
     ]
    }
   ],
   "source": [
    "print (\"Checkinf for NaN and Inf\")\n",
    "print (\"np.nan=\", np.where(np.isnan(data_num)))\n",
    "print (\"is.inf=\", np.where(np.isinf(data_num)))\n",
    "print (\"np.max=\", np.max(abs(data_num)))"
   ]
  },
  {
   "cell_type": "markdown",
   "metadata": {},
   "source": [
    "## Modelling"
   ]
  },
  {
   "cell_type": "code",
   "execution_count": 54,
   "metadata": {},
   "outputs": [
    {
     "name": "stdout",
     "output_type": "stream",
     "text": [
      "(74250, 2163)\n"
     ]
    }
   ],
   "source": [
    "#Merging datasets and printing out the dimensions of the merged dataset.\n",
    "data = pd.concat([data_num, data_cat], axis=1)\n",
    "print(data.shape)"
   ]
  },
  {
   "cell_type": "code",
   "execution_count": 55,
   "metadata": {},
   "outputs": [
    {
     "name": "stdout",
     "output_type": "stream",
     "text": [
      "(59400, 2163)\n",
      "(14850, 2163)\n",
      "(59400,)\n"
     ]
    }
   ],
   "source": [
    "#Creating train and test sets\n",
    "\n",
    "n_train = train_1.shape[0]\n",
    "n_test = test.shape[0]\n",
    "y_target = target\n",
    "train = pd.DataFrame(data[:n_train])\n",
    "test = pd.DataFrame(data[n_train:])\n",
    "\n",
    "print(train.shape)\n",
    "print(test.shape)\n",
    "print(y_target.shape)"
   ]
  },
  {
   "cell_type": "markdown",
   "metadata": {},
   "source": [
    "**Creating train-test split**"
   ]
  },
  {
   "cell_type": "code",
   "execution_count": 56,
   "metadata": {},
   "outputs": [
    {
     "name": "stdout",
     "output_type": "stream",
     "text": [
      "X_train : (41580, 2163)\n",
      "X_test : (17820, 2163)\n",
      "y_train : (41580,)\n",
      "y_test : (17820,)\n"
     ]
    }
   ],
   "source": [
    "from sklearn.model_selection import train_test_split, KFold, cross_val_score\n",
    "from sklearn.ensemble import RandomForestClassifier\n",
    "from sklearn.ensemble import ExtraTreesClassifier\n",
    "from sklearn.tree import DecisionTreeClassifier\n",
    "\n",
    "X_train, X_test, Y_train, Y_test = train_test_split(train, y_target, test_size = 0.30, random_state = 1)\n",
    "print(\"X_train : \" + str(X_train.shape))\n",
    "print(\"X_test : \" + str(X_test.shape))\n",
    "print(\"y_train : \" + str(Y_train.shape))\n",
    "print(\"y_test : \" + str(Y_test.shape))"
   ]
  },
  {
   "cell_type": "markdown",
   "metadata": {},
   "source": [
    "## Modelling"
   ]
  },
  {
   "cell_type": "code",
   "execution_count": 57,
   "metadata": {},
   "outputs": [
    {
     "name": "stdout",
     "output_type": "stream",
     "text": [
      "Random Forest 0.8103254769921436\n"
     ]
    }
   ],
   "source": [
    "from sklearn.ensemble import RandomForestClassifier\n",
    "modelRFC = RandomForestClassifier(n_estimators=1000,min_samples_split=10,criterion='gini')\n",
    "modelRFC.fit(X_train, Y_train)\n",
    "\n",
    "scoreRFC= modelRFC.score(X_test,Y_test)\n",
    "print ('Random Forest' ,scoreRFC)"
   ]
  },
  {
   "cell_type": "code",
   "execution_count": null,
   "metadata": {
    "collapsed": true
   },
   "outputs": [],
   "source": [
    "#This was a randomn forest grid search algorithm which took more than 5 hours and was still running \n",
    "#and hence had to be shut down\n",
    "\n",
    "#from sklearn.grid_search import GridSearchCV\n",
    "\n",
    "#RFC = RandomForestClassifier(n_estimators=1000)\n",
    "\n",
    "#param_grid = {\"n_estimators\" : [800,1200],\n",
    "              #\"max_depth\": [5, None],\n",
    "              #\"min_samples_split\": [2, 5, 10,15],\n",
    "              #\"min_samples_leaf\": [1, 5, 10],\n",
    "              #\"bootstrap\": [True, False],\n",
    "              #\"criterion\": [\"gini\", \"entropy\"]}\n",
    "\n",
    "#grid_search = GridSearchCV(RFC, param_grid=param_grid)\n",
    "\n",
    "#grid_search.fit(X_train, Y_train)\n",
    "\n",
    "#scoreRFC= grid_search.score(X_test,Y_test)\n",
    "#print ('Random Forest' ,scoreRFC)"
   ]
  },
  {
   "cell_type": "code",
   "execution_count": 58,
   "metadata": {},
   "outputs": [
    {
     "name": "stdout",
     "output_type": "stream",
     "text": [
      "Decision Tree 0.7738496071829405\n"
     ]
    }
   ],
   "source": [
    "from sklearn.tree import DecisionTreeClassifier\n",
    "modelDTC = DecisionTreeClassifier(min_samples_split=20, random_state=99)\n",
    "modelDTC.fit(X_train, Y_train)\n",
    "\n",
    "scoreDTC= modelDTC.score(X_test,Y_test)\n",
    "print ('Decision Tree', scoreDTC)"
   ]
  },
  {
   "cell_type": "markdown",
   "metadata": {},
   "source": [
    "## Extremely randomised trees\n",
    "In extremely randomized trees (see ExtraTreesClassifier and ExtraTreesRegressor classes), randomness goes one step further in the way splits are computed. As in random forests, a random subset of candidate features is used, but instead of looking for the most discriminative thresholds, thresholds are drawn at random for each candidate feature and the best of these randomly-generated thresholds is picked as the splitting rule. This usually allows to reduce the variance of the model a bit more, at the expense of a slightly greater increase in bias:"
   ]
  },
  {
   "cell_type": "code",
   "execution_count": 59,
   "metadata": {},
   "outputs": [
    {
     "name": "stdout",
     "output_type": "stream",
     "text": [
      "Extra Trees Classifiers 0.8065656565656566\n"
     ]
    }
   ],
   "source": [
    "modelETC = ExtraTreesClassifier(n_estimators=1000,min_samples_split=10)\n",
    "modelETC.fit(X_train, Y_train)\n",
    "\n",
    "scoreETC= modelETC.score(X_test,Y_test)\n",
    "print ('Extra Trees Classifiers', scoreETC)"
   ]
  },
  {
   "cell_type": "code",
   "execution_count": 62,
   "metadata": {},
   "outputs": [
    {
     "data": {
      "text/plain": [
       "Text(0,0.5,'Score')"
      ]
     },
     "execution_count": 62,
     "metadata": {},
     "output_type": "execute_result"
    },
    {
     "data": {
      "image/png": "[encoded data removed]",
      "text/plain": [
       "<matplotlib.figure.Figure at 0x1109d5c50>"
      ]
     },
     "metadata": {},
     "output_type": "display_data"
    }
   ],
   "source": [
    "import matplotlib.pyplot as plt\n",
    "%matplotlib inline \n",
    "pd.DataFrame([\n",
    "    (\"Decision Tree\", scoreDTC),\n",
    "    (\"Random Forest\", scoreRFC),\n",
    "    (\"Extra Tree Classifier\", scoreETC),\n",
    "    ], columns=[\"Model\", \"score\"]).plot(x=\"Model\", y=\"score\", kind=\"Bar\", fontsize=15)\n",
    "plt.xlabel('Model', fontsize=15)\n",
    "plt.ylabel('Score', fontsize=15)"
   ]
  },
  {
   "cell_type": "markdown",
   "metadata": {},
   "source": [
    "## Final Model and Classification Report\n",
    "\n",
    "Based on the above obtained validation results we see that Random Forest yields the best classification result compared to other methods. Hence, we decide to create a classification report and confusion matrix of this particular algorithm. We can conclude that our model acts as a good classifier for labeling functional and non-functional pumps. Improvements could be made for the pumps that are functional and need repair. However, this class represents only 14% of the events. Consequently, we are satisfied that our classifer correctly labels the majority classes with a F1 score of 85% for functional- and 81% for non-functional pumps. "
   ]
  },
  {
   "cell_type": "code",
   "execution_count": 61,
   "metadata": {},
   "outputs": [
    {
     "name": "stdout",
     "output_type": "stream",
     "text": [
      "------------------\n",
      "                         precision    recall  f1-score   support\n",
      "\n",
      "             Functional       0.80      0.91      0.85      9691\n",
      "Functional Needs Repair       0.62      0.27      0.38      1270\n",
      "         Non Functional       0.85      0.77      0.81      6859\n",
      "\n",
      "            avg / total       0.80      0.81      0.80     17820\n",
      "\n",
      "------------------\n"
     ]
    },
    {
     "data": {
      "image/png": "[encoded data removed]",
      "text/plain": [
       "<matplotlib.figure.Figure at 0x118069f28>"
      ]
     },
     "metadata": {},
     "output_type": "display_data"
    },
    {
     "data": {
      "image/png": "[encoded data removed]",
      "text/plain": [
       "<matplotlib.figure.Figure at 0x119eeb358>"
      ]
     },
     "metadata": {},
     "output_type": "display_data"
    },
    {
     "data": {
      "image/png": "[encoded data removed]",
      "text/plain": [
       "<matplotlib.figure.Figure at 0x11a420b70>"
      ]
     },
     "metadata": {},
     "output_type": "display_data"
    }
   ],
   "source": [
    "import scikitplot as skplt\n",
    "from sklearn.metrics import classification_report\n",
    "\n",
    "#Model definiton\n",
    "modelRFC = RandomForestClassifier(n_estimators=1000,min_samples_split=10,criterion='gini')\n",
    "modelRFC.fit(X_train, Y_train)\n",
    "\n",
    "#Make predictions for train and test data\n",
    "rfrpred = modelRFC.predict(X_test)\n",
    "rfrprob = modelRFC.predict_proba(X_test) #prob for the ROC\n",
    "\n",
    "\n",
    "def diagnosticplot(probprediction, predictions):\n",
    "    skplt.metrics.plot_confusion_matrix(Y_test, predictions, normalize=False) #CREATE A CONFUSION MATRIX\n",
    "    skplt.metrics.plot_confusion_matrix(Y_test, predictions, normalize=True) #normalized matrix \n",
    "    print('------------------')\n",
    "    print(classification_report(Y_test, predictions, target_names=['Functional', 'Functional Needs Repair', 'Non Functional']))\n",
    "    print('------------------')\n",
    "    skplt.metrics.plot_roc_curve(Y_test, probprediction) #roc curve based on predicted probabilities\n",
    "    plt.show()\n",
    "    return;\n",
    "diagnosticplot(rfrprob, rfrpred)"
   ]
  },
  {
   "cell_type": "code",
   "execution_count": 63,
   "metadata": {},
   "outputs": [
    {
     "name": "stdout",
     "output_type": "stream",
     "text": [
      "[7.00797232e-02 6.86890573e-02 9.87036072e-03 ... 2.68953601e-05\n",
      " 9.87088155e-05 5.09520578e-05]\n"
     ]
    }
   ],
   "source": [
    "print(modelRFC.feature_importances_) #-> see printout below for the result"
   ]
  },
  {
   "cell_type": "markdown",
   "metadata": {},
   "source": [
    "# Final run on test values\n",
    " "
   ]
  },
  {
   "cell_type": "code",
   "execution_count": null,
   "metadata": {
    "collapsed": true
   },
   "outputs": [],
   "source": [
    "modelRFC = RandomForestClassifier(n_estimators=1000,min_samples_split=10,criterion='gini')\n",
    "\n",
    "modelRFC.fit(train.values, y_target)\n",
    "RFC_pred = modelRFC.predict(test.values)\n"
   ]
  },
  {
   "cell_type": "code",
   "execution_count": null,
   "metadata": {
    "collapsed": true
   },
   "outputs": [],
   "source": [
    "final = pd.DataFrame()\n",
    "final['id'] = test_ID\n",
    "final['status_group'] = RFC_pred\n",
    "final.to_csv('submission.csv',index=False)"
   ]
  }
 ],
 "metadata": {
  "kernelspec": {
   "display_name": "Python 3",
   "language": "python",
   "name": "python3"
  },
  "language_info": {
   "codemirror_mode": {
    "name": "ipython",
    "version": 3
   },
   "file_extension": ".py",
   "mimetype": "text/x-python",
   "name": "python",
   "nbconvert_exporter": "python",
   "pygments_lexer": "ipython3",
   "version": "3.6.4"
  }
 },
 "nbformat": 4,
 "nbformat_minor": 2
}
